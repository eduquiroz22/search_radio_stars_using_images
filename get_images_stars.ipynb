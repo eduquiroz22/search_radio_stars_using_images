{
 "cells": [
  {
   "cell_type": "code",
   "execution_count": 1,
   "id": "bc594d91-d124-40ea-9d5b-85ef81aae4cd",
   "metadata": {
    "tags": []
   },
   "outputs": [],
   "source": [
    "import pandas as pd\n",
    "import numpy as np"
   ]
  },
  {
   "cell_type": "code",
   "execution_count": 2,
   "id": "a08315fd-0f6c-428a-954e-edefac451bd9",
   "metadata": {
    "tags": []
   },
   "outputs": [
    {
     "data": {
      "text/html": [
       "<div>\n",
       "<style scoped>\n",
       "    .dataframe tbody tr th:only-of-type {\n",
       "        vertical-align: middle;\n",
       "    }\n",
       "\n",
       "    .dataframe tbody tr th {\n",
       "        vertical-align: top;\n",
       "    }\n",
       "\n",
       "    .dataframe thead th {\n",
       "        text-align: right;\n",
       "    }\n",
       "</style>\n",
       "<table border=\"1\" class=\"dataframe\">\n",
       "  <thead>\n",
       "    <tr style=\"text-align: right;\">\n",
       "      <th></th>\n",
       "      <th>index</th>\n",
       "      <th>source_id</th>\n",
       "      <th>ra</th>\n",
       "      <th>dec</th>\n",
       "      <th>parallax</th>\n",
       "      <th>pmra</th>\n",
       "      <th>pmdec</th>\n",
       "      <th>epoch</th>\n",
       "      <th>ra_p</th>\n",
       "      <th>dec_p</th>\n",
       "    </tr>\n",
       "  </thead>\n",
       "  <tbody>\n",
       "    <tr>\n",
       "      <th>0</th>\n",
       "      <td>616320</td>\n",
       "      <td>3864972938605115520</td>\n",
       "      <td>164.103190</td>\n",
       "      <td>7.002727</td>\n",
       "      <td>415.179416</td>\n",
       "      <td>-3866.338275</td>\n",
       "      <td>-2699.214988</td>\n",
       "      <td>2000.098</td>\n",
       "      <td>164.120448</td>\n",
       "      <td>7.014632</td>\n",
       "    </tr>\n",
       "    <tr>\n",
       "      <th>1</th>\n",
       "      <td>263198</td>\n",
       "      <td>762815470562110464</td>\n",
       "      <td>165.830960</td>\n",
       "      <td>35.948653</td>\n",
       "      <td>392.752945</td>\n",
       "      <td>-580.057087</td>\n",
       "      <td>-4776.588719</td>\n",
       "      <td>1994.521</td>\n",
       "      <td>165.835130</td>\n",
       "      <td>35.977157</td>\n",
       "    </tr>\n",
       "    <tr>\n",
       "      <th>2</th>\n",
       "      <td>685730</td>\n",
       "      <td>3796072592206250624</td>\n",
       "      <td>176.937688</td>\n",
       "      <td>0.799120</td>\n",
       "      <td>296.305308</td>\n",
       "      <td>607.299077</td>\n",
       "      <td>-1223.028355</td>\n",
       "      <td>1998.592</td>\n",
       "      <td>176.934697</td>\n",
       "      <td>0.805057</td>\n",
       "    </tr>\n",
       "    <tr>\n",
       "      <th>3</th>\n",
       "      <td>380592</td>\n",
       "      <td>703790044252850688</td>\n",
       "      <td>127.450092</td>\n",
       "      <td>26.773286</td>\n",
       "      <td>279.249639</td>\n",
       "      <td>-1113.693547</td>\n",
       "      <td>-612.191073</td>\n",
       "      <td>1995.862</td>\n",
       "      <td>127.457151</td>\n",
       "      <td>26.776695</td>\n",
       "    </tr>\n",
       "    <tr>\n",
       "      <th>4</th>\n",
       "      <td>813398</td>\n",
       "      <td>2552928187080872832</td>\n",
       "      <td>12.296740</td>\n",
       "      <td>5.376557</td>\n",
       "      <td>231.780000</td>\n",
       "      <td>1231.399465</td>\n",
       "      <td>-2711.882504</td>\n",
       "      <td>2009.218</td>\n",
       "      <td>12.294394</td>\n",
       "      <td>5.381661</td>\n",
       "    </tr>\n",
       "    <tr>\n",
       "      <th>...</th>\n",
       "      <td>...</td>\n",
       "      <td>...</td>\n",
       "      <td>...</td>\n",
       "      <td>...</td>\n",
       "      <td>...</td>\n",
       "      <td>...</td>\n",
       "      <td>...</td>\n",
       "      <td>...</td>\n",
       "      <td>...</td>\n",
       "      <td>...</td>\n",
       "    </tr>\n",
       "    <tr>\n",
       "      <th>79072</th>\n",
       "      <td>748111</td>\n",
       "      <td>5761035592009134848</td>\n",
       "      <td>132.651076</td>\n",
       "      <td>-4.699385</td>\n",
       "      <td>10.000134</td>\n",
       "      <td>-39.836030</td>\n",
       "      <td>31.746516</td>\n",
       "      <td>2001.256</td>\n",
       "      <td>132.651237</td>\n",
       "      <td>-4.699515</td>\n",
       "    </tr>\n",
       "    <tr>\n",
       "      <th>79073</th>\n",
       "      <td>662194</td>\n",
       "      <td>3809611737872457856</td>\n",
       "      <td>162.873900</td>\n",
       "      <td>3.317327</td>\n",
       "      <td>10.000134</td>\n",
       "      <td>48.366999</td>\n",
       "      <td>3.981069</td>\n",
       "      <td>1998.516</td>\n",
       "      <td>162.873663</td>\n",
       "      <td>3.317309</td>\n",
       "    </tr>\n",
       "    <tr>\n",
       "      <th>79074</th>\n",
       "      <td>137217</td>\n",
       "      <td>1407928457594520576</td>\n",
       "      <td>253.502181</td>\n",
       "      <td>47.883362</td>\n",
       "      <td>10.000129</td>\n",
       "      <td>-15.734855</td>\n",
       "      <td>49.408530</td>\n",
       "      <td>1997.258</td>\n",
       "      <td>253.502307</td>\n",
       "      <td>47.883106</td>\n",
       "    </tr>\n",
       "    <tr>\n",
       "      <th>79075</th>\n",
       "      <td>983725</td>\n",
       "      <td>2629631149026173952</td>\n",
       "      <td>337.052475</td>\n",
       "      <td>-1.761859</td>\n",
       "      <td>10.000042</td>\n",
       "      <td>37.693628</td>\n",
       "      <td>-98.718081</td>\n",
       "      <td>1995.935</td>\n",
       "      <td>337.052262</td>\n",
       "      <td>-1.761310</td>\n",
       "    </tr>\n",
       "    <tr>\n",
       "      <th>79076</th>\n",
       "      <td>890211</td>\n",
       "      <td>1769202380476257280</td>\n",
       "      <td>326.964971</td>\n",
       "      <td>14.825783</td>\n",
       "      <td>10.000008</td>\n",
       "      <td>87.431680</td>\n",
       "      <td>48.197051</td>\n",
       "      <td>2011.287</td>\n",
       "      <td>326.964855</td>\n",
       "      <td>14.825720</td>\n",
       "    </tr>\n",
       "  </tbody>\n",
       "</table>\n",
       "<p>79077 rows × 10 columns</p>\n",
       "</div>"
      ],
      "text/plain": [
       "        index            source_id          ra        dec    parallax  \\\n",
       "0      616320  3864972938605115520  164.103190   7.002727  415.179416   \n",
       "1      263198   762815470562110464  165.830960  35.948653  392.752945   \n",
       "2      685730  3796072592206250624  176.937688   0.799120  296.305308   \n",
       "3      380592   703790044252850688  127.450092  26.773286  279.249639   \n",
       "4      813398  2552928187080872832   12.296740   5.376557  231.780000   \n",
       "...       ...                  ...         ...        ...         ...   \n",
       "79072  748111  5761035592009134848  132.651076  -4.699385   10.000134   \n",
       "79073  662194  3809611737872457856  162.873900   3.317327   10.000134   \n",
       "79074  137217  1407928457594520576  253.502181  47.883362   10.000129   \n",
       "79075  983725  2629631149026173952  337.052475  -1.761859   10.000042   \n",
       "79076  890211  1769202380476257280  326.964971  14.825783   10.000008   \n",
       "\n",
       "              pmra        pmdec     epoch        ra_p      dec_p  \n",
       "0     -3866.338275 -2699.214988  2000.098  164.120448   7.014632  \n",
       "1      -580.057087 -4776.588719  1994.521  165.835130  35.977157  \n",
       "2       607.299077 -1223.028355  1998.592  176.934697   0.805057  \n",
       "3     -1113.693547  -612.191073  1995.862  127.457151  26.776695  \n",
       "4      1231.399465 -2711.882504  2009.218   12.294394   5.381661  \n",
       "...            ...          ...       ...         ...        ...  \n",
       "79072   -39.836030    31.746516  2001.256  132.651237  -4.699515  \n",
       "79073    48.366999     3.981069  1998.516  162.873663   3.317309  \n",
       "79074   -15.734855    49.408530  1997.258  253.502307  47.883106  \n",
       "79075    37.693628   -98.718081  1995.935  337.052262  -1.761310  \n",
       "79076    87.431680    48.197051  2011.287  326.964855  14.825720  \n",
       "\n",
       "[79077 rows x 10 columns]"
      ]
     },
     "execution_count": 2,
     "metadata": {},
     "output_type": "execute_result"
    }
   ],
   "source": [
    "df = pd.read_csv('gaia_100pc_all_first.csv')\n",
    "df"
   ]
  },
  {
   "cell_type": "code",
   "execution_count": 3,
   "id": "f952569c-4694-450c-b6e7-5808f754db32",
   "metadata": {
    "tags": []
   },
   "outputs": [],
   "source": [
    "df = df.sort_values('parallax', ascending=False).reset_index(drop=True)"
   ]
  },
  {
   "cell_type": "code",
   "execution_count": null,
   "id": "567f8250-b954-4a53-8e79-9d29030018c6",
   "metadata": {},
   "outputs": [],
   "source": [
    "ini = "
   ]
  },
  {
   "cell_type": "code",
   "execution_count": 17,
   "id": "8e6d2cff-5339-4bfd-8d73-b8b64f6b9b32",
   "metadata": {
    "tags": []
   },
   "outputs": [
    {
     "data": {
      "text/html": [
       "<div>\n",
       "<style scoped>\n",
       "    .dataframe tbody tr th:only-of-type {\n",
       "        vertical-align: middle;\n",
       "    }\n",
       "\n",
       "    .dataframe tbody tr th {\n",
       "        vertical-align: top;\n",
       "    }\n",
       "\n",
       "    .dataframe thead th {\n",
       "        text-align: right;\n",
       "    }\n",
       "</style>\n",
       "<table border=\"1\" class=\"dataframe\">\n",
       "  <thead>\n",
       "    <tr style=\"text-align: right;\">\n",
       "      <th></th>\n",
       "      <th>index</th>\n",
       "      <th>source_id</th>\n",
       "      <th>ra</th>\n",
       "      <th>dec</th>\n",
       "      <th>parallax</th>\n",
       "      <th>pmra</th>\n",
       "      <th>pmdec</th>\n",
       "      <th>epoch</th>\n",
       "      <th>ra_p</th>\n",
       "      <th>dec_p</th>\n",
       "    </tr>\n",
       "  </thead>\n",
       "  <tbody>\n",
       "    <tr>\n",
       "      <th>0</th>\n",
       "      <td>285030</td>\n",
       "      <td>1337922994634249088</td>\n",
       "      <td>254.879052</td>\n",
       "      <td>34.008066</td>\n",
       "      <td>11.007940</td>\n",
       "      <td>25.254789</td>\n",
       "      <td>71.604203</td>\n",
       "      <td>1994.479</td>\n",
       "      <td>254.878869</td>\n",
       "      <td>34.007640</td>\n",
       "    </tr>\n",
       "    <tr>\n",
       "      <th>1</th>\n",
       "      <td>662433</td>\n",
       "      <td>4424195822485621120</td>\n",
       "      <td>234.921704</td>\n",
       "      <td>3.212156</td>\n",
       "      <td>11.007851</td>\n",
       "      <td>-267.965207</td>\n",
       "      <td>-512.447562</td>\n",
       "      <td>1998.552</td>\n",
       "      <td>234.923002</td>\n",
       "      <td>3.214641</td>\n",
       "    </tr>\n",
       "    <tr>\n",
       "      <th>2</th>\n",
       "      <td>1024958</td>\n",
       "      <td>2604991711923749504</td>\n",
       "      <td>343.773584</td>\n",
       "      <td>-10.848652</td>\n",
       "      <td>11.007836</td>\n",
       "      <td>-22.331348</td>\n",
       "      <td>79.710132</td>\n",
       "      <td>1997.262</td>\n",
       "      <td>343.773704</td>\n",
       "      <td>-10.849066</td>\n",
       "    </tr>\n",
       "    <tr>\n",
       "      <th>3</th>\n",
       "      <td>738151</td>\n",
       "      <td>6336314094434517632</td>\n",
       "      <td>227.027119</td>\n",
       "      <td>-3.778094</td>\n",
       "      <td>11.007834</td>\n",
       "      <td>-66.413060</td>\n",
       "      <td>5.932129</td>\n",
       "      <td>1999.237</td>\n",
       "      <td>227.027431</td>\n",
       "      <td>-3.778122</td>\n",
       "    </tr>\n",
       "    <tr>\n",
       "      <th>4</th>\n",
       "      <td>109600</td>\n",
       "      <td>1558934010164323968</td>\n",
       "      <td>206.067479</td>\n",
       "      <td>50.833697</td>\n",
       "      <td>11.007769</td>\n",
       "      <td>23.896635</td>\n",
       "      <td>36.893238</td>\n",
       "      <td>1997.270</td>\n",
       "      <td>206.067283</td>\n",
       "      <td>50.833508</td>\n",
       "    </tr>\n",
       "    <tr>\n",
       "      <th>...</th>\n",
       "      <td>...</td>\n",
       "      <td>...</td>\n",
       "      <td>...</td>\n",
       "      <td>...</td>\n",
       "      <td>...</td>\n",
       "      <td>...</td>\n",
       "      <td>...</td>\n",
       "      <td>...</td>\n",
       "      <td>...</td>\n",
       "      <td>...</td>\n",
       "    </tr>\n",
       "    <tr>\n",
       "      <th>4995</th>\n",
       "      <td>218403</td>\n",
       "      <td>756500833549428608</td>\n",
       "      <td>157.856725</td>\n",
       "      <td>40.734009</td>\n",
       "      <td>10.709685</td>\n",
       "      <td>-9.369153</td>\n",
       "      <td>-19.987396</td>\n",
       "      <td>1994.655</td>\n",
       "      <td>157.856798</td>\n",
       "      <td>40.734126</td>\n",
       "    </tr>\n",
       "    <tr>\n",
       "      <th>4996</th>\n",
       "      <td>480417</td>\n",
       "      <td>1202709422635455488</td>\n",
       "      <td>239.751402</td>\n",
       "      <td>18.335262</td>\n",
       "      <td>10.709646</td>\n",
       "      <td>-55.345389</td>\n",
       "      <td>43.469210</td>\n",
       "      <td>1999.895</td>\n",
       "      <td>239.751663</td>\n",
       "      <td>18.335066</td>\n",
       "    </tr>\n",
       "    <tr>\n",
       "      <th>4997</th>\n",
       "      <td>921443</td>\n",
       "      <td>1750863106345527296</td>\n",
       "      <td>310.319788</td>\n",
       "      <td>8.929238</td>\n",
       "      <td>10.709592</td>\n",
       "      <td>129.011709</td>\n",
       "      <td>104.464592</td>\n",
       "      <td>2011.308</td>\n",
       "      <td>310.319621</td>\n",
       "      <td>8.929103</td>\n",
       "    </tr>\n",
       "    <tr>\n",
       "      <th>4998</th>\n",
       "      <td>673865</td>\n",
       "      <td>4412163385710273024</td>\n",
       "      <td>242.905262</td>\n",
       "      <td>2.323434</td>\n",
       "      <td>10.709575</td>\n",
       "      <td>-74.802089</td>\n",
       "      <td>11.423112</td>\n",
       "      <td>1998.547</td>\n",
       "      <td>242.905623</td>\n",
       "      <td>2.323380</td>\n",
       "    </tr>\n",
       "    <tr>\n",
       "      <th>4999</th>\n",
       "      <td>783937</td>\n",
       "      <td>74050016482218368</td>\n",
       "      <td>32.778131</td>\n",
       "      <td>12.894789</td>\n",
       "      <td>10.709403</td>\n",
       "      <td>50.823343</td>\n",
       "      <td>-65.944226</td>\n",
       "      <td>2011.252</td>\n",
       "      <td>32.778062</td>\n",
       "      <td>12.894875</td>\n",
       "    </tr>\n",
       "  </tbody>\n",
       "</table>\n",
       "<p>5000 rows × 10 columns</p>\n",
       "</div>"
      ],
      "text/plain": [
       "        index            source_id          ra        dec   parallax  \\\n",
       "0      285030  1337922994634249088  254.879052  34.008066  11.007940   \n",
       "1      662433  4424195822485621120  234.921704   3.212156  11.007851   \n",
       "2     1024958  2604991711923749504  343.773584 -10.848652  11.007836   \n",
       "3      738151  6336314094434517632  227.027119  -3.778094  11.007834   \n",
       "4      109600  1558934010164323968  206.067479  50.833697  11.007769   \n",
       "...       ...                  ...         ...        ...        ...   \n",
       "4995   218403   756500833549428608  157.856725  40.734009  10.709685   \n",
       "4996   480417  1202709422635455488  239.751402  18.335262  10.709646   \n",
       "4997   921443  1750863106345527296  310.319788   8.929238  10.709592   \n",
       "4998   673865  4412163385710273024  242.905262   2.323434  10.709575   \n",
       "4999   783937    74050016482218368   32.778131  12.894789  10.709403   \n",
       "\n",
       "            pmra       pmdec     epoch        ra_p      dec_p  \n",
       "0      25.254789   71.604203  1994.479  254.878869  34.007640  \n",
       "1    -267.965207 -512.447562  1998.552  234.923002   3.214641  \n",
       "2     -22.331348   79.710132  1997.262  343.773704 -10.849066  \n",
       "3     -66.413060    5.932129  1999.237  227.027431  -3.778122  \n",
       "4      23.896635   36.893238  1997.270  206.067283  50.833508  \n",
       "...          ...         ...       ...         ...        ...  \n",
       "4995   -9.369153  -19.987396  1994.655  157.856798  40.734126  \n",
       "4996  -55.345389   43.469210  1999.895  239.751663  18.335066  \n",
       "4997  129.011709  104.464592  2011.308  310.319621   8.929103  \n",
       "4998  -74.802089   11.423112  1998.547  242.905623   2.323380  \n",
       "4999   50.823343  -65.944226  2011.252   32.778062  12.894875  \n",
       "\n",
       "[5000 rows x 10 columns]"
      ]
     },
     "execution_count": 17,
     "metadata": {},
     "output_type": "execute_result"
    }
   ],
   "source": [
    "df = df[2000*0:2000*1].reset_index(drop=True)\n",
    "df"
   ]
  },
  {
   "cell_type": "markdown",
   "id": "2f9d794b-2508-4853-a31a-178c75ff9c7c",
   "metadata": {},
   "source": [
    "# web scrapping"
   ]
  },
  {
   "cell_type": "code",
   "execution_count": 5,
   "id": "12f488d2-6c8c-44e5-9a2b-02a8439979ec",
   "metadata": {
    "tags": []
   },
   "outputs": [],
   "source": [
    "from selenium import webdriver\n",
    "from bs4 import BeautifulSoup as bs\n",
    "import pandas as pd\n",
    "from selenium.webdriver.chrome.service import Service\n",
    "from webdriver_manager.chrome import ChromeDriverManager\n",
    "from urllib.parse import urljoin\n",
    "\n",
    "from selenium.webdriver.common.by import By\n",
    "from selenium.webdriver.support.ui import Select\n",
    "import time\n",
    "import requests"
   ]
  },
  {
   "cell_type": "code",
   "execution_count": 6,
   "id": "a3525a46-89fb-4263-aa14-ffd8a1a5f09a",
   "metadata": {
    "tags": []
   },
   "outputs": [],
   "source": [
    "from datetime import datetime"
   ]
  },
  {
   "cell_type": "code",
   "execution_count": 7,
   "id": "281558ec-f05d-4bb3-a113-7233834583fb",
   "metadata": {
    "tags": []
   },
   "outputs": [],
   "source": [
    "def conv_ra(ra):\n",
    "    h = int(ra/15)\n",
    "    m = int((ra/15-h)*60)\n",
    "    s = round(((ra/15-h)*60-m)*60,6)\n",
    "    return (f'{h} {m} {s}')\n",
    "\n",
    "def conv_dec(dec):\n",
    "    sig = '+' if dec>=0 else '-'\n",
    "    dec = abs(dec)\n",
    "    d = int(dec)\n",
    "    m = int((dec-d)*60)\n",
    "    s = round(((dec-d)*60-m)*60,6)\n",
    "    return (f'{sig}{d} {m} {s}')"
   ]
  },
  {
   "cell_type": "code",
   "execution_count": 8,
   "id": "b868262a-9051-45fa-b248-89661bf8792a",
   "metadata": {
    "tags": []
   },
   "outputs": [],
   "source": [
    "chromeOptions = webdriver.ChromeOptions()\n",
    "prefs = {\"download.default_directory\" : \"/home/eduardo/Documents/FIRST/12 image analysis/multidownload/d1\"}\n",
    "chromeOptions.add_experimental_option(\"prefs\", prefs)"
   ]
  },
  {
   "cell_type": "code",
   "execution_count": 9,
   "id": "65846997-a51e-484a-9324-0f1f7075f700",
   "metadata": {
    "tags": []
   },
   "outputs": [],
   "source": [
    "driver = webdriver.Chrome(service=Service(ChromeDriverManager().install()), options=chromeOptions)"
   ]
  },
  {
   "cell_type": "code",
   "execution_count": 10,
   "id": "dcd07c39-0dd6-4c6a-b46e-30cddd26c5d4",
   "metadata": {
    "tags": []
   },
   "outputs": [],
   "source": [
    "driver.get(\"https://third.ucllnl.org/cgi-bin/firstcutout\")"
   ]
  },
  {
   "cell_type": "code",
   "execution_count": 11,
   "id": "438f5b5f-a663-4845-ad63-2c489fe5fa98",
   "metadata": {
    "tags": []
   },
   "outputs": [],
   "source": [
    "driver.find_element(By.XPATH, \"//input[@name='ImageSize']\").clear()\n",
    "driver.find_element(By.XPATH, \"//input[@name='ImageSize']\").send_keys(\"0.14\")\n",
    "driver.find_element(By.XPATH, \"//input[@value='FITS File']\").click()\n",
    "driver.find_element(By.XPATH, \"//input[@name='MaxInt']\").clear()\n",
    "driver.find_element(By.XPATH, \"//input[@name='MaxInt']\").send_keys(\"50\")"
   ]
  },
  {
   "cell_type": "code",
   "execution_count": 12,
   "id": "aa073164-9a67-42b9-9cc7-fed3be2b7aac",
   "metadata": {
    "tags": []
   },
   "outputs": [],
   "source": [
    "from IPython.display import clear_output"
   ]
  },
  {
   "cell_type": "code",
   "execution_count": 13,
   "id": "90014651-ac35-4db1-b3ca-d89c8d382609",
   "metadata": {
    "tags": []
   },
   "outputs": [],
   "source": [
    "import os"
   ]
  },
  {
   "cell_type": "code",
   "execution_count": 14,
   "id": "663e9147-d2a4-4400-863d-c82680d429e3",
   "metadata": {
    "tags": []
   },
   "outputs": [],
   "source": [
    "def getfiles(dirpath):\n",
    "    a = [s for s in os.listdir(dirpath)\n",
    "         if os.path.isfile(os.path.join(dirpath, s))]\n",
    "    a.sort(key=lambda s: os.path.getmtime(os.path.join(dirpath, s)))\n",
    "    return a"
   ]
  },
  {
   "cell_type": "code",
   "execution_count": 24,
   "id": "fba98102-b54c-4076-813f-b8267bc041cd",
   "metadata": {
    "tags": []
   },
   "outputs": [
    {
     "data": {
      "text/plain": [
       "[]"
      ]
     },
     "execution_count": 24,
     "metadata": {},
     "output_type": "execute_result"
    }
   ],
   "source": [
    "getfiles('d1')"
   ]
  },
  {
   "cell_type": "code",
   "execution_count": 27,
   "id": "231d573f-ace0-4814-be9a-1774283d919b",
   "metadata": {
    "tags": []
   },
   "outputs": [],
   "source": [
    "os.rename('d1/aver1', 'd1/aver100')"
   ]
  },
  {
   "cell_type": "code",
   "execution_count": 32,
   "id": "192db8c4-25da-471b-9cf5-97fae6035a59",
   "metadata": {
    "tags": []
   },
   "outputs": [
    {
     "data": {
      "text/plain": [
       "'load'"
      ]
     },
     "execution_count": 32,
     "metadata": {},
     "output_type": "execute_result"
    }
   ],
   "source": [
    "files[-1][-4:]"
   ]
  },
  {
   "cell_type": "code",
   "execution_count": 52,
   "id": "f895fa3d-108d-4f62-a787-eee2f647911d",
   "metadata": {
    "tags": []
   },
   "outputs": [
    {
     "data": {
      "text/plain": [
       "True"
      ]
     },
     "execution_count": 52,
     "metadata": {},
     "output_type": "execute_result"
    }
   ],
   "source": [
    "'.crdownload' in 'J083525+120433.fits.crdownload'"
   ]
  },
  {
   "cell_type": "code",
   "execution_count": 54,
   "id": "e7a4edf1-ad98-448f-95cf-c0f0f73d93ef",
   "metadata": {
    "tags": []
   },
   "outputs": [],
   "source": [
    "flag = True and True"
   ]
  },
  {
   "cell_type": "code",
   "execution_count": 55,
   "id": "bdd3fd0c-efa7-4779-9062-879a12971bab",
   "metadata": {
    "tags": []
   },
   "outputs": [
    {
     "data": {
      "text/plain": [
       "True"
      ]
     },
     "execution_count": 55,
     "metadata": {},
     "output_type": "execute_result"
    }
   ],
   "source": [
    "flag"
   ]
  },
  {
   "cell_type": "code",
   "execution_count": 18,
   "id": "b480432e-0291-4b55-b219-b1dec593dc95",
   "metadata": {
    "tags": []
   },
   "outputs": [
    {
     "name": "stdout",
     "output_type": "stream",
     "text": [
      "2 not found\n",
      "54 not found\n",
      "80 not found\n",
      "124 not found\n",
      "228 not found\n",
      "234 not found\n",
      "302 not found\n",
      "312 not found\n",
      "374 not found\n",
      "376 not found\n",
      "379 not found\n",
      "402 not found\n",
      "430 not found\n",
      "442 not found\n",
      "561 not found\n",
      "568 not found\n",
      "591 not found\n",
      "615 not found\n",
      "640 not found\n",
      "641 not found\n",
      "657 not found\n",
      "664 not found\n",
      "726 not found\n",
      "734 not found\n",
      "765 not found\n",
      "786 not found\n",
      "809 not found\n",
      "906 not found\n",
      "922 not found\n",
      "923 not found\n",
      "952 not found\n",
      "953 not found\n",
      "984 not found\n",
      "1016 not found\n",
      "1019 not found\n",
      "1118 not found\n",
      "1166 not found\n",
      "1172 not found\n",
      "1207 not found\n",
      "1219 not found\n",
      "1242 not found\n",
      "1273 not found\n",
      "1297 not found\n",
      "1304 not found\n",
      "1319 not found\n",
      "1331 not found\n",
      "1341 not found\n",
      "1343 not found\n",
      "1355 not found\n",
      "1424 not found\n",
      "1438 not found\n",
      "1541 not found\n",
      "1549 not found\n",
      "1551 not found\n",
      "1563 not found\n",
      "1605 not found\n",
      "1610 not found\n",
      "1616 not found\n",
      "1647 not found\n",
      "1675 not found\n",
      "1699 not found\n",
      "1781 not found\n",
      "1812 not found\n",
      "1830 not found\n",
      "1836 not found\n",
      "1881 not found\n",
      "1907 not found\n",
      "1917 not found\n",
      "1993 not found\n",
      "2021 not found\n",
      "2032 not found\n",
      "2050 not found\n",
      "2096 not found\n",
      "2111 not found\n",
      "2125 not found\n",
      "2127 not found\n",
      "2134 not found\n",
      "2138 not found\n",
      "2143 not found\n",
      "2183 not found\n",
      "2214 not found\n",
      "2271 not found\n",
      "2310 not found\n",
      "2316 not found\n",
      "2355 not found\n",
      "2453 not found\n",
      "2455 not found\n",
      "2487 not found\n",
      "2546 not found\n",
      "2568 not found\n",
      "2611 not found\n",
      "2666 not found\n",
      "2714 not found\n",
      "2723 not found\n",
      "2735 not found\n",
      "2736 not found\n",
      "2747 not found\n",
      "2775 not found\n",
      "2820 not found\n",
      "2858 not found\n",
      "2896 not found\n",
      "2899 not found\n",
      "2979 not found\n",
      "2991 not found\n",
      "3061 not found\n",
      "3077 not found\n",
      "3078 not found\n",
      "3124 not found\n",
      "3142 not found\n",
      "3154 not found\n",
      "3157 not found\n",
      "3207 not found\n",
      "3251 not found\n",
      "3258 not found\n",
      "3310 not found\n",
      "3323 not found\n",
      "3398 not found\n",
      "3411 not found\n",
      "3416 not found\n",
      "3465 not found\n",
      "3494 not found\n",
      "3505 not found\n",
      "3537 not found\n",
      "3586 not found\n",
      "3590 not found\n",
      "3601 not found\n",
      "3615 not found\n",
      "3635 not found\n",
      "3646 not found\n",
      "3661 not found\n",
      "3665 not found\n",
      "3666 not found\n",
      "3686 not found\n",
      "3696 not found\n",
      "3712 not found\n",
      "3770 not found\n",
      "3776 not found\n",
      "3865 not found\n",
      "3919 not found\n",
      "3922 not found\n",
      "3941 not found\n",
      "3950 not found\n",
      "3955 not found\n",
      "4007 not found\n",
      "4048 not found\n",
      "4049 not found\n",
      "4056 not found\n",
      "4057 not found\n",
      "4059 not found\n",
      "4084 not found\n",
      "4123 not found\n",
      "4255 not found\n",
      "4273 not found\n",
      "4282 not found\n",
      "4415 not found\n",
      "4503 not found\n",
      "4525 not found\n",
      "4541 not found\n",
      "4665 not found\n",
      "4767 not found\n",
      "4777 not found\n",
      "4792 not found\n",
      "4813 not found\n",
      "4828 not found\n",
      "4834 not found\n",
      "4835 not found\n",
      "4843 not found\n",
      "4845 not found\n",
      "4858 not found\n",
      "4861 not found\n",
      "4865 not found\n",
      "4871 not found\n",
      "4876 not found\n",
      "4929 not found\n",
      "4936 not found\n",
      "4947 not found\n",
      "4959 not found\n",
      "4990 not found\n",
      "4999 not found\n",
      "Tiempo descarga: 1:31:02.446541\n"
     ]
    }
   ],
   "source": [
    "founded = []\n",
    "ini = 5000*12\n",
    "directory = \"d6_1/\"\n",
    "start = datetime.now()\n",
    "for i in range(len(df)):\n",
    "    driver.find_element(By.XPATH, \"//input[@name='RA']\").clear()\n",
    "    # introduciendo RA y DEC\n",
    "    driver.find_element(By.XPATH, \"//input[@name='RA']\").send_keys(conv_ra(df['ra_p'][i])+\" \"+conv_dec(df['dec_p'][i]))\n",
    "    # submit\n",
    "    driver.find_element(By.XPATH, \"//input[@name='.submit']\").click()\n",
    "    time.sleep(0.1)\n",
    "    try:\n",
    "        if driver.find_element(By.XPATH, \"//pre\").text[:2]==\"No\":\n",
    "            print(i, 'not found')\n",
    "            founded.append(0)\n",
    "            driver.back()\n",
    "    except:\n",
    "        files = os.listdir(directory)\n",
    "        i_load = -1\n",
    "        for j in range(len(files)):\n",
    "            if files[j][-4:] == \"load\":\n",
    "                i_load = j\n",
    "                break\n",
    "        while True:\n",
    "            time.sleep(0.01)\n",
    "            files = os.listdir(directory)\n",
    "            if 'load' not in files[i_load]:\n",
    "                break\n",
    "        time.sleep(0.01)\n",
    "        files = getfiles(directory)\n",
    "        os.rename(directory+files[-1], directory+str(ini+i)+'.fits')\n",
    "        founded.append(1)\n",
    "end = datetime.now()\n",
    "print(f'Tiempo descarga: {end-start}')"
   ]
  }
 ],
 "metadata": {
  "kernelspec": {
   "display_name": "Python 3 (ipykernel)",
   "language": "python",
   "name": "python3"
  },
  "language_info": {
   "codemirror_mode": {
    "name": "ipython",
    "version": 3
   },
   "file_extension": ".py",
   "mimetype": "text/x-python",
   "name": "python",
   "nbconvert_exporter": "python",
   "pygments_lexer": "ipython3",
   "version": "3.11.5"
  }
 },
 "nbformat": 4,
 "nbformat_minor": 5
}
